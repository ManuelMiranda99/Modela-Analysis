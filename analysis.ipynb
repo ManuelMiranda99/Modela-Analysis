{
 "cells": [
  {
   "cell_type": "markdown",
   "metadata": {},
   "source": [
    "# Analisis realizados para el modelo"
   ]
  },
  {
   "cell_type": "code",
   "execution_count": 1,
   "metadata": {},
   "outputs": [],
   "source": [
    "import pandas as pd\n",
    "import numpy as np"
   ]
  },
  {
   "cell_type": "code",
   "execution_count": 2,
   "metadata": {},
   "outputs": [],
   "source": [
    "\n",
    "# THIS CONTAINS DATA FROM THE GATES. IT'S IMPORTANT\n",
    "# TO KNOW THE TYPE OF SEATING FOR EACH GATE AND IT'S PROBABILITY.\n",
    "dirty_tickets_df = pd.read_csv('data/ticket_scan_data.csv')\n",
    "\n",
    "# THIS CONTAINS DATA THAT I ACTUALLY DONT CARE AND I'M WON'T USE\n",
    "dirty_seating_df = pd.read_csv('data/seating_section_data.csv')\n",
    "\n",
    "# THIS CONTAINS DATA FROM EACH BATHROOM. I CARE ABOUT THE NUMBER OF PEOPLE\n",
    "# THAT ENTERS THE BATHROOM. I NEED TO FIND A RATE FOR EACH BATHROOM. ALSO,\n",
    "# I NEED TO COMBINE MENS AND WOMENS BATHROOM IN THE DATA\n",
    "dirty_bathroom_df = pd.read_csv('data/bathroom_data.csv')\n",
    "\n",
    "# THIS CONTAINS DATA ABOUT THE DIFFERENT MERCHANDISE STANDS. I CARE ABOUT\n",
    "# THE RATE IN WHICH THE POEPLE ARRIVE AT THE STANDS.\n",
    "# THEN, I NEED THE PROBABILITY OF THE PEOPLE TO BUY MORE THAN 1 MERCH\n",
    "dirty_merch_df = pd.read_csv('data/merch_data.csv')\n",
    "\n",
    "# THIS CONTAINS DATA ABOUT THE DIFFERENT FOOD STANDS. I CARE ABOUT\n",
    "# THE RATE IN WHICH THE POEPLE ARRIVE AT THE STANDS.\n",
    "# THEN, I NEED THE PROBABILITY OF THE PEOPLE TO BUY MORE THAN 1 FOOD\n",
    "# AND THE PROBABILITY OF EACH FOOD ITEM\n",
    "dirty_concession_df = pd.read_csv('data/concession_data.csv')"
   ]
  },
  {
   "cell_type": "markdown",
   "metadata": {},
   "source": [
    "## Tickets data Analysis\n",
    "\n",
    "| Fan Type | Seating Section |\n",
    "| -------- | --------------- |\n",
    "| Season Ticket Holder | 114-126 |\n",
    "| General Public | 100-103, 132-141 |\n",
    "| Party Section | 108-113 |\n",
    "| Family Section | 127-131 |\n",
    "| Visitor Section | 104-107 |"
   ]
  },
  {
   "cell_type": "code",
   "execution_count": 4,
   "metadata": {},
   "outputs": [
    {
     "data": {
      "text/html": [
       "<div>\n",
       "<style scoped>\n",
       "    .dataframe tbody tr th:only-of-type {\n",
       "        vertical-align: middle;\n",
       "    }\n",
       "\n",
       "    .dataframe tbody tr th {\n",
       "        vertical-align: top;\n",
       "    }\n",
       "\n",
       "    .dataframe thead th {\n",
       "        text-align: right;\n",
       "    }\n",
       "</style>\n",
       "<table border=\"1\" class=\"dataframe\">\n",
       "  <thead>\n",
       "    <tr style=\"text-align: right;\">\n",
       "      <th></th>\n",
       "      <th>Agent</th>\n",
       "      <th>ScanTime</th>\n",
       "      <th>SeatingSection</th>\n",
       "    </tr>\n",
       "  </thead>\n",
       "  <tbody>\n",
       "    <tr>\n",
       "      <th>0</th>\n",
       "      <td>GateD_TicketAgent1</td>\n",
       "      <td>12/09/22 18:30</td>\n",
       "      <td>129</td>\n",
       "    </tr>\n",
       "    <tr>\n",
       "      <th>1</th>\n",
       "      <td>GateB_TicketAgent1</td>\n",
       "      <td>12/09/22 18:30</td>\n",
       "      <td>115</td>\n",
       "    </tr>\n",
       "    <tr>\n",
       "      <th>2</th>\n",
       "      <td>GateA_TicketAgent1</td>\n",
       "      <td>12/09/22 18:30</td>\n",
       "      <td>121</td>\n",
       "    </tr>\n",
       "    <tr>\n",
       "      <th>3</th>\n",
       "      <td>GateC_TicketAgent1</td>\n",
       "      <td>12/09/22 18:30</td>\n",
       "      <td>111</td>\n",
       "    </tr>\n",
       "    <tr>\n",
       "      <th>4</th>\n",
       "      <td>GateA_TicketAgent2</td>\n",
       "      <td>12/09/22 18:30</td>\n",
       "      <td>132</td>\n",
       "    </tr>\n",
       "  </tbody>\n",
       "</table>\n",
       "</div>"
      ],
      "text/plain": [
       "                Agent        ScanTime  SeatingSection\n",
       "0  GateD_TicketAgent1  12/09/22 18:30             129\n",
       "1  GateB_TicketAgent1  12/09/22 18:30             115\n",
       "2  GateA_TicketAgent1  12/09/22 18:30             121\n",
       "3  GateC_TicketAgent1  12/09/22 18:30             111\n",
       "4  GateA_TicketAgent2  12/09/22 18:30             132"
      ]
     },
     "execution_count": 4,
     "metadata": {},
     "output_type": "execute_result"
    }
   ],
   "source": [
    "dirty_tickets_df.head()"
   ]
  },
  {
   "cell_type": "code",
   "execution_count": 49,
   "metadata": {},
   "outputs": [
    {
     "data": {
      "text/html": [
       "<div>\n",
       "<style scoped>\n",
       "    .dataframe tbody tr th:only-of-type {\n",
       "        vertical-align: middle;\n",
       "    }\n",
       "\n",
       "    .dataframe tbody tr th {\n",
       "        vertical-align: top;\n",
       "    }\n",
       "\n",
       "    .dataframe thead th {\n",
       "        text-align: right;\n",
       "    }\n",
       "</style>\n",
       "<table border=\"1\" class=\"dataframe\">\n",
       "  <thead>\n",
       "    <tr style=\"text-align: right;\">\n",
       "      <th></th>\n",
       "      <th>Agent</th>\n",
       "      <th>ScanTime</th>\n",
       "      <th>SeatingSection</th>\n",
       "      <th>Seating Section String</th>\n",
       "    </tr>\n",
       "  </thead>\n",
       "  <tbody>\n",
       "    <tr>\n",
       "      <th>0</th>\n",
       "      <td>GateD_TicketAgent1</td>\n",
       "      <td>2022-12-09 18:30:00</td>\n",
       "      <td>129</td>\n",
       "      <td>Family Section</td>\n",
       "    </tr>\n",
       "    <tr>\n",
       "      <th>1</th>\n",
       "      <td>GateB_TicketAgent1</td>\n",
       "      <td>2022-12-09 18:30:00</td>\n",
       "      <td>115</td>\n",
       "      <td>Season Ticket Holder</td>\n",
       "    </tr>\n",
       "    <tr>\n",
       "      <th>2</th>\n",
       "      <td>GateA_TicketAgent1</td>\n",
       "      <td>2022-12-09 18:30:00</td>\n",
       "      <td>121</td>\n",
       "      <td>Season Ticket Holder</td>\n",
       "    </tr>\n",
       "    <tr>\n",
       "      <th>3</th>\n",
       "      <td>GateC_TicketAgent1</td>\n",
       "      <td>2022-12-09 18:30:00</td>\n",
       "      <td>111</td>\n",
       "      <td>Party Section</td>\n",
       "    </tr>\n",
       "    <tr>\n",
       "      <th>4</th>\n",
       "      <td>GateA_TicketAgent2</td>\n",
       "      <td>2022-12-09 18:30:00</td>\n",
       "      <td>132</td>\n",
       "      <td>General Public</td>\n",
       "    </tr>\n",
       "  </tbody>\n",
       "</table>\n",
       "</div>"
      ],
      "text/plain": [
       "                Agent            ScanTime  SeatingSection  \\\n",
       "0  GateD_TicketAgent1 2022-12-09 18:30:00             129   \n",
       "1  GateB_TicketAgent1 2022-12-09 18:30:00             115   \n",
       "2  GateA_TicketAgent1 2022-12-09 18:30:00             121   \n",
       "3  GateC_TicketAgent1 2022-12-09 18:30:00             111   \n",
       "4  GateA_TicketAgent2 2022-12-09 18:30:00             132   \n",
       "\n",
       "  Seating Section String  \n",
       "0         Family Section  \n",
       "1   Season Ticket Holder  \n",
       "2   Season Ticket Holder  \n",
       "3          Party Section  \n",
       "4         General Public  "
      ]
     },
     "execution_count": 49,
     "metadata": {},
     "output_type": "execute_result"
    }
   ],
   "source": [
    "dirty_tickets_df.loc[\n",
    "  dirty_tickets_df[\"SeatingSection\"].between(114, 126), \"Seating Section String\"] = \"Season Ticket Holder\"\n",
    "\n",
    "dirty_tickets_df.loc[\n",
    "  dirty_tickets_df[\"SeatingSection\"].between(100, 103), \"Seating Section String\"] = \"General Public\"\n",
    "dirty_tickets_df.loc[\n",
    "  dirty_tickets_df[\"SeatingSection\"].between(132, 141), \"Seating Section String\"] = \"General Public\"\n",
    "\n",
    "dirty_tickets_df.loc[\n",
    "  dirty_tickets_df[\"SeatingSection\"].between(108, 113), \"Seating Section String\"] = \"Party Section\"\n",
    "\n",
    "dirty_tickets_df.loc[\n",
    "  dirty_tickets_df[\"SeatingSection\"].between(127, 131), \"Seating Section String\"] = \"Family Section\"\n",
    "\n",
    "dirty_tickets_df.loc[\n",
    "  dirty_tickets_df[\"SeatingSection\"].between(104, 107), \"Seating Section String\"] = \"Visitor Section\"\n",
    "\n",
    "dirty_tickets_df[\"ScanTime\"] = pd.to_datetime(dirty_tickets_df[\"ScanTime\"])\n",
    "\n",
    "dirty_tickets_df.head()"
   ]
  },
  {
   "cell_type": "code",
   "execution_count": 64,
   "metadata": {},
   "outputs": [],
   "source": [
    "gate_a_data = dirty_tickets_df.loc[dirty_tickets_df[\"Agent\"].str.contains(\"GateA\")]\n",
    "gate_b_data = dirty_tickets_df.loc[dirty_tickets_df[\"Agent\"].str.contains(\"GateB\")]\n",
    "gate_c_data = dirty_tickets_df.loc[dirty_tickets_df[\"Agent\"].str.contains(\"GateC\")]\n",
    "gate_d_data = dirty_tickets_df.loc[dirty_tickets_df[\"Agent\"].str.contains(\"GateD\")]"
   ]
  },
  {
   "cell_type": "code",
   "execution_count": null,
   "metadata": {},
   "outputs": [],
   "source": [
    "# gate_a_data.head()\n",
    "# gate_b_data.head()\n",
    "# gate_c_data.head()\n",
    "# gate_d_data.head()\n",
    "\n",
    "# gate_a_data[\"Agent\"].unique()\n",
    "# gate_b_data[\"Agent\"].unique()\n",
    "# gate_c_data[\"Agent\"].unique()\n",
    "# gate_d_data[\"Agent\"].unique()"
   ]
  },
  {
   "cell_type": "code",
   "execution_count": 51,
   "metadata": {},
   "outputs": [],
   "source": [
    "def get_counts(df):\n",
    "  return round(df[\"Seating Section String\"].value_counts() / df.shape[0], 2)"
   ]
  },
  {
   "cell_type": "code",
   "execution_count": 62,
   "metadata": {},
   "outputs": [
    {
     "name": "stdout",
     "output_type": "stream",
     "text": [
      "ScanTime                        \n",
      "2022-09-19  Season Ticket Holder    0.60\n",
      "            General Public          0.14\n",
      "            Family Section          0.12\n",
      "            Party Section           0.09\n",
      "            Visitor Section         0.05\n",
      "2022-09-26  Season Ticket Holder    0.60\n",
      "            Family Section          0.14\n",
      "            General Public          0.12\n",
      "            Party Section           0.08\n",
      "            Visitor Section         0.05\n",
      "2022-12-09  Season Ticket Holder    0.60\n",
      "            General Public          0.14\n",
      "            Family Section          0.13\n",
      "            Party Section           0.07\n",
      "            Visitor Section         0.07\n",
      "Name: Seating Section String, dtype: float64\n"
     ]
    }
   ],
   "source": [
    "gate_a_data = gate_a_data.groupby(pd.Grouper(key='ScanTime', freq='1D')).apply(get_counts)\n",
    "print(gate_a_data)"
   ]
  },
  {
   "cell_type": "code",
   "execution_count": 53,
   "metadata": {},
   "outputs": [
    {
     "name": "stdout",
     "output_type": "stream",
     "text": [
      "ScanTime                        \n",
      "2022-09-19  General Public          0.42\n",
      "            Party Section           0.28\n",
      "            Season Ticket Holder    0.16\n",
      "            Visitor Section         0.12\n",
      "            Family Section          0.02\n",
      "2022-09-26  General Public          0.41\n",
      "            Party Section           0.29\n",
      "            Season Ticket Holder    0.17\n",
      "            Visitor Section         0.11\n",
      "            Family Section          0.03\n",
      "2022-12-09  General Public          0.41\n",
      "            Party Section           0.27\n",
      "            Season Ticket Holder    0.18\n",
      "            Visitor Section         0.11\n",
      "            Family Section          0.03\n",
      "Name: Seating Section String, dtype: float64\n"
     ]
    }
   ],
   "source": [
    "gate_b_data = gate_b_data.groupby(pd.Grouper(key='ScanTime', freq='1D')).apply(get_counts)\n",
    "print(gate_b_data)"
   ]
  },
  {
   "cell_type": "code",
   "execution_count": 54,
   "metadata": {},
   "outputs": [
    {
     "name": "stdout",
     "output_type": "stream",
     "text": [
      "ScanTime                        \n",
      "2022-09-19  General Public          0.56\n",
      "            Visitor Section         0.15\n",
      "            Party Section           0.14\n",
      "            Family Section          0.09\n",
      "            Season Ticket Holder    0.06\n",
      "2022-09-26  General Public          0.55\n",
      "            Visitor Section         0.15\n",
      "            Party Section           0.13\n",
      "            Family Section          0.10\n",
      "            Season Ticket Holder    0.07\n",
      "2022-12-09  General Public          0.55\n",
      "            Party Section           0.15\n",
      "            Visitor Section         0.14\n",
      "            Family Section          0.09\n",
      "            Season Ticket Holder    0.08\n",
      "Name: Seating Section String, dtype: float64\n"
     ]
    }
   ],
   "source": [
    "gate_c_data = gate_c_data.groupby(pd.Grouper(key='ScanTime', freq='1D')).apply(get_counts)\n",
    "print(gate_c_data)"
   ]
  },
  {
   "cell_type": "code",
   "execution_count": 55,
   "metadata": {},
   "outputs": [
    {
     "name": "stdout",
     "output_type": "stream",
     "text": [
      "ScanTime                        \n",
      "2022-09-19  Family Section          0.41\n",
      "            Season Ticket Holder    0.18\n",
      "            General Public          0.16\n",
      "            Party Section           0.13\n",
      "            Visitor Section         0.13\n",
      "2022-09-26  Family Section          0.44\n",
      "            General Public          0.17\n",
      "            Season Ticket Holder    0.16\n",
      "            Party Section           0.14\n",
      "            Visitor Section         0.09\n",
      "2022-12-09  Family Section          0.43\n",
      "            Season Ticket Holder    0.18\n",
      "            General Public          0.16\n",
      "            Party Section           0.13\n",
      "            Visitor Section         0.09\n",
      "Name: Seating Section String, dtype: float64\n"
     ]
    }
   ],
   "source": [
    "gate_d_data = gate_d_data.groupby(pd.Grouper(key='ScanTime', freq='1D')).apply(get_counts)\n",
    "print(gate_d_data)"
   ]
  },
  {
   "cell_type": "markdown",
   "metadata": {},
   "source": [
    "### Unique Agents on each Gate"
   ]
  },
  {
   "cell_type": "code",
   "execution_count": 65,
   "metadata": {},
   "outputs": [
    {
     "name": "stdout",
     "output_type": "stream",
     "text": [
      "['GateA_TicketAgent1' 'GateA_TicketAgent2' 'GateA_TicketAgent3']\n",
      "['GateB_TicketAgent1' 'GateB_TicketAgent2' 'GateB_TicketAgent3']\n",
      "['GateC_TicketAgent1' 'GateC_TicketAgent2' 'GateC_TicketAgent3']\n",
      "['GateD_TicketAgent1' 'GateD_TicketAgent2' 'GateD_TicketAgent3']\n"
     ]
    }
   ],
   "source": [
    "print(gate_a_data[\"Agent\"].unique())\n",
    "print(gate_b_data[\"Agent\"].unique())\n",
    "print(gate_c_data[\"Agent\"].unique())\n",
    "print(gate_d_data[\"Agent\"].unique())"
   ]
  },
  {
   "cell_type": "markdown",
   "metadata": {},
   "source": [
    "## Bathrooms data Analysis"
   ]
  },
  {
   "cell_type": "code",
   "execution_count": 5,
   "metadata": {},
   "outputs": [
    {
     "data": {
      "text/html": [
       "<div>\n",
       "<style scoped>\n",
       "    .dataframe tbody tr th:only-of-type {\n",
       "        vertical-align: middle;\n",
       "    }\n",
       "\n",
       "    .dataframe tbody tr th {\n",
       "        vertical-align: top;\n",
       "    }\n",
       "\n",
       "    .dataframe thead th {\n",
       "        text-align: right;\n",
       "    }\n",
       "</style>\n",
       "<table border=\"1\" class=\"dataframe\">\n",
       "  <thead>\n",
       "    <tr style=\"text-align: right;\">\n",
       "      <th></th>\n",
       "      <th>Bathroom</th>\n",
       "      <th>ScanTime</th>\n",
       "      <th>Entrance</th>\n",
       "    </tr>\n",
       "  </thead>\n",
       "  <tbody>\n",
       "    <tr>\n",
       "      <th>0</th>\n",
       "      <td>Men's Bathroom2</td>\n",
       "      <td>12/09/22 18:38</td>\n",
       "      <td>True</td>\n",
       "    </tr>\n",
       "    <tr>\n",
       "      <th>1</th>\n",
       "      <td>Men's Bathroom2</td>\n",
       "      <td>12/09/22 18:39</td>\n",
       "      <td>False</td>\n",
       "    </tr>\n",
       "    <tr>\n",
       "      <th>2</th>\n",
       "      <td>Men's Bathroom4</td>\n",
       "      <td>12/09/22 18:43</td>\n",
       "      <td>True</td>\n",
       "    </tr>\n",
       "    <tr>\n",
       "      <th>3</th>\n",
       "      <td>Men's Bathroom4</td>\n",
       "      <td>12/09/22 18:44</td>\n",
       "      <td>True</td>\n",
       "    </tr>\n",
       "    <tr>\n",
       "      <th>4</th>\n",
       "      <td>Men's Bathroom2</td>\n",
       "      <td>12/09/22 18:45</td>\n",
       "      <td>True</td>\n",
       "    </tr>\n",
       "  </tbody>\n",
       "</table>\n",
       "</div>"
      ],
      "text/plain": [
       "          Bathroom        ScanTime  Entrance\n",
       "0  Men's Bathroom2  12/09/22 18:38      True\n",
       "1  Men's Bathroom2  12/09/22 18:39     False\n",
       "2  Men's Bathroom4  12/09/22 18:43      True\n",
       "3  Men's Bathroom4  12/09/22 18:44      True\n",
       "4  Men's Bathroom2  12/09/22 18:45      True"
      ]
     },
     "execution_count": 5,
     "metadata": {},
     "output_type": "execute_result"
    }
   ],
   "source": [
    "dirty_bathroom_df.head()"
   ]
  },
  {
   "cell_type": "code",
   "execution_count": 86,
   "metadata": {},
   "outputs": [],
   "source": [
    "# REMOVE ELEMENTS THAT CONTAINS False IN THE Entrance column\n",
    "dirty_bathroom_df = dirty_bathroom_df[dirty_bathroom_df.Entrance != False]\n",
    "dirty_bathroom_df[\"ScanTime\"] = pd.to_datetime(dirty_bathroom_df[\"ScanTime\"])"
   ]
  },
  {
   "cell_type": "code",
   "execution_count": 106,
   "metadata": {},
   "outputs": [],
   "source": [
    "bathroom_1 = dirty_bathroom_df.loc[dirty_bathroom_df[\"Bathroom\"].str.contains(\"Bathroom1\")]\n",
    "bathroom_2 = dirty_bathroom_df.loc[dirty_bathroom_df[\"Bathroom\"].str.contains(\"Bathroom2\")]\n",
    "bathroom_3 = dirty_bathroom_df.loc[dirty_bathroom_df[\"Bathroom\"].str.contains(\"Bathroom3\")]\n",
    "bathroom_4 = dirty_bathroom_df.loc[dirty_bathroom_df[\"Bathroom\"].str.contains(\"Bathroom4\")]\n",
    "bathroom_5 = dirty_bathroom_df.loc[dirty_bathroom_df[\"Bathroom\"].str.contains(\"Bathroom5\")]\n",
    "bathroom_6 = dirty_bathroom_df.loc[dirty_bathroom_df[\"Bathroom\"].str.contains(\"Bathroom6\")]\n",
    "bathroom_7 = dirty_bathroom_df.loc[dirty_bathroom_df[\"Bathroom\"].str.contains(\"Bathroom7\")]\n",
    "bathroom_8 = dirty_bathroom_df.loc[dirty_bathroom_df[\"Bathroom\"].str.contains(\"Bathroom8\")]"
   ]
  },
  {
   "cell_type": "code",
   "execution_count": 107,
   "metadata": {},
   "outputs": [],
   "source": [
    "def process_bathroom_data(df):\n",
    "  new_df = df.groupby(pd.Grouper(key=\"ScanTime\", freq=\"30min\")).count()\n",
    "  new_df = new_df[new_df[\"Bathroom\"] != 0]\n",
    "  new_df = new_df[new_df[\"Entrance\"] != 0]\n",
    "\n",
    "  return new_df"
   ]
  },
  {
   "cell_type": "code",
   "execution_count": 119,
   "metadata": {},
   "outputs": [],
   "source": [
    "final_data = process_bathroom_data(bathroom_1)\n",
    "final_data.to_csv(\"final_data/bathroom/bathroom_1.csv\")"
   ]
  },
  {
   "cell_type": "code",
   "execution_count": 120,
   "metadata": {},
   "outputs": [],
   "source": [
    "final_data = process_bathroom_data(bathroom_2)\n",
    "final_data.to_csv(\"final_data/bathroom/bathroom_2.csv\")"
   ]
  },
  {
   "cell_type": "code",
   "execution_count": 121,
   "metadata": {},
   "outputs": [],
   "source": [
    "final_data = process_bathroom_data(bathroom_3)\n",
    "final_data.to_csv(\"final_data/bathroom/bathroom_3.csv\")"
   ]
  },
  {
   "cell_type": "code",
   "execution_count": 122,
   "metadata": {},
   "outputs": [],
   "source": [
    "final_data = process_bathroom_data(bathroom_4)\n",
    "final_data.to_csv(\"final_data/bathroom/bathroom_4.csv\")"
   ]
  },
  {
   "cell_type": "code",
   "execution_count": 123,
   "metadata": {},
   "outputs": [],
   "source": [
    "final_data = process_bathroom_data(bathroom_5)\n",
    "final_data.to_csv(\"final_data/bathroom/bathroom_5.csv\")"
   ]
  },
  {
   "cell_type": "code",
   "execution_count": 124,
   "metadata": {},
   "outputs": [],
   "source": [
    "final_data = process_bathroom_data(bathroom_6)\n",
    "final_data.to_csv(\"final_data/bathroom/bathroom_6.csv\")"
   ]
  },
  {
   "cell_type": "code",
   "execution_count": 125,
   "metadata": {},
   "outputs": [],
   "source": [
    "final_data = process_bathroom_data(bathroom_7)\n",
    "final_data.to_csv(\"final_data/bathroom/bathroom_7.csv\")"
   ]
  },
  {
   "cell_type": "code",
   "execution_count": 126,
   "metadata": {},
   "outputs": [],
   "source": [
    "final_data = process_bathroom_data(bathroom_8)\n",
    "final_data.to_csv(\"final_data/bathroom/bathroom_8.csv\")"
   ]
  },
  {
   "cell_type": "markdown",
   "metadata": {},
   "source": [
    "## Merch data Analysis"
   ]
  },
  {
   "cell_type": "code",
   "execution_count": 127,
   "metadata": {},
   "outputs": [
    {
     "data": {
      "text/html": [
       "<div>\n",
       "<style scoped>\n",
       "    .dataframe tbody tr th:only-of-type {\n",
       "        vertical-align: middle;\n",
       "    }\n",
       "\n",
       "    .dataframe tbody tr th {\n",
       "        vertical-align: top;\n",
       "    }\n",
       "\n",
       "    .dataframe thead th {\n",
       "        text-align: right;\n",
       "    }\n",
       "</style>\n",
       "<table border=\"1\" class=\"dataframe\">\n",
       "  <thead>\n",
       "    <tr style=\"text-align: right;\">\n",
       "      <th></th>\n",
       "      <th>MerchandiseStand</th>\n",
       "      <th>TransactionTime</th>\n",
       "      <th>Qty</th>\n",
       "    </tr>\n",
       "  </thead>\n",
       "  <tbody>\n",
       "    <tr>\n",
       "      <th>0</th>\n",
       "      <td>Merch5</td>\n",
       "      <td>12/09/22 18:34</td>\n",
       "      <td>1</td>\n",
       "    </tr>\n",
       "    <tr>\n",
       "      <th>1</th>\n",
       "      <td>Merch5</td>\n",
       "      <td>12/09/22 18:39</td>\n",
       "      <td>2</td>\n",
       "    </tr>\n",
       "    <tr>\n",
       "      <th>2</th>\n",
       "      <td>Merch5</td>\n",
       "      <td>12/09/22 18:39</td>\n",
       "      <td>1</td>\n",
       "    </tr>\n",
       "    <tr>\n",
       "      <th>3</th>\n",
       "      <td>Merch2</td>\n",
       "      <td>12/09/22 18:39</td>\n",
       "      <td>1</td>\n",
       "    </tr>\n",
       "    <tr>\n",
       "      <th>4</th>\n",
       "      <td>Merch6</td>\n",
       "      <td>12/09/22 18:40</td>\n",
       "      <td>1</td>\n",
       "    </tr>\n",
       "  </tbody>\n",
       "</table>\n",
       "</div>"
      ],
      "text/plain": [
       "  MerchandiseStand TransactionTime  Qty\n",
       "0           Merch5  12/09/22 18:34    1\n",
       "1           Merch5  12/09/22 18:39    2\n",
       "2           Merch5  12/09/22 18:39    1\n",
       "3           Merch2  12/09/22 18:39    1\n",
       "4           Merch6  12/09/22 18:40    1"
      ]
     },
     "execution_count": 127,
     "metadata": {},
     "output_type": "execute_result"
    }
   ],
   "source": [
    "dirty_merch_df.head()"
   ]
  },
  {
   "cell_type": "code",
   "execution_count": 6,
   "metadata": {},
   "outputs": [],
   "source": [
    "dirty_merch_df[\"TransactionTime\"] = pd.to_datetime(dirty_merch_df[\"TransactionTime\"])"
   ]
  },
  {
   "cell_type": "code",
   "execution_count": 7,
   "metadata": {},
   "outputs": [],
   "source": [
    "merch_1 = dirty_merch_df.loc[dirty_merch_df[\"MerchandiseStand\"].str.contains(\"Merch1\")]\n",
    "merch_2 = dirty_merch_df.loc[dirty_merch_df[\"MerchandiseStand\"].str.contains(\"Merch2\")]\n",
    "merch_3 = dirty_merch_df.loc[dirty_merch_df[\"MerchandiseStand\"].str.contains(\"Merch3\")]\n",
    "merch_4 = dirty_merch_df.loc[dirty_merch_df[\"MerchandiseStand\"].str.contains(\"Merch4\")]\n",
    "merch_5 = dirty_merch_df.loc[dirty_merch_df[\"MerchandiseStand\"].str.contains(\"Merch5\")]\n",
    "merch_6 = dirty_merch_df.loc[dirty_merch_df[\"MerchandiseStand\"].str.contains(\"Merch6\")]"
   ]
  },
  {
   "cell_type": "code",
   "execution_count": 142,
   "metadata": {},
   "outputs": [],
   "source": [
    "def process_merch_data(df, index):\n",
    "  df = df.drop(\"Qty\", axis=1)\n",
    "  merch_df = df.groupby(pd.Grouper(key=\"TransactionTime\", freq=\"30min\")).count()\n",
    "  merch_df = merch_df[merch_df[\"MerchandiseStand\"] != 0]\n",
    "  \n",
    "  merch_df.to_csv(\"final_data/merch/merch_\" + str(index) + \".csv\")\n",
    "\n",
    "for i in range(1, 7):\n",
    "  process_merch_data(globals()[\"merch_\" + str(i)], i)"
   ]
  },
  {
   "cell_type": "code",
   "execution_count": 8,
   "metadata": {},
   "outputs": [],
   "source": [
    "def get_counts_merch(df):\n",
    "  return round(df[\"Qty\"].value_counts() / df.shape[0], 2)\n",
    "\n",
    "for i in range(1, 7):\n",
    "  merch_df = globals()[\"merch_\" + str(i)]\n",
    "  merch_df = get_counts_merch(merch_df)\n",
    "  merch_df.to_csv(\"final_data/merch/merch_\" + str(i) + \"_counts.csv\")"
   ]
  },
  {
   "cell_type": "markdown",
   "metadata": {},
   "source": [
    "## Concessions data Analysis"
   ]
  },
  {
   "cell_type": "code",
   "execution_count": 3,
   "metadata": {},
   "outputs": [
    {
     "data": {
      "text/html": [
       "<div>\n",
       "<style scoped>\n",
       "    .dataframe tbody tr th:only-of-type {\n",
       "        vertical-align: middle;\n",
       "    }\n",
       "\n",
       "    .dataframe tbody tr th {\n",
       "        vertical-align: top;\n",
       "    }\n",
       "\n",
       "    .dataframe thead th {\n",
       "        text-align: right;\n",
       "    }\n",
       "</style>\n",
       "<table border=\"1\" class=\"dataframe\">\n",
       "  <thead>\n",
       "    <tr style=\"text-align: right;\">\n",
       "      <th></th>\n",
       "      <th>ConcessionStand</th>\n",
       "      <th>TransactionID</th>\n",
       "      <th>TransactionTime</th>\n",
       "      <th>Item</th>\n",
       "      <th>Quantity</th>\n",
       "    </tr>\n",
       "  </thead>\n",
       "  <tbody>\n",
       "    <tr>\n",
       "      <th>0</th>\n",
       "      <td>Concession5</td>\n",
       "      <td>10280863</td>\n",
       "      <td>12/09/22 18:35</td>\n",
       "      <td>SoftDrink</td>\n",
       "      <td>3</td>\n",
       "    </tr>\n",
       "    <tr>\n",
       "      <th>1</th>\n",
       "      <td>Concession5</td>\n",
       "      <td>10280863</td>\n",
       "      <td>12/09/22 18:35</td>\n",
       "      <td>Beer</td>\n",
       "      <td>1</td>\n",
       "    </tr>\n",
       "    <tr>\n",
       "      <th>2</th>\n",
       "      <td>Concession5</td>\n",
       "      <td>10280863</td>\n",
       "      <td>12/09/22 18:35</td>\n",
       "      <td>Fries</td>\n",
       "      <td>1</td>\n",
       "    </tr>\n",
       "    <tr>\n",
       "      <th>3</th>\n",
       "      <td>Concession2</td>\n",
       "      <td>10280864</td>\n",
       "      <td>12/09/22 18:36</td>\n",
       "      <td>BottledWater</td>\n",
       "      <td>2</td>\n",
       "    </tr>\n",
       "    <tr>\n",
       "      <th>4</th>\n",
       "      <td>Concession2</td>\n",
       "      <td>10280864</td>\n",
       "      <td>12/09/22 18:36</td>\n",
       "      <td>Beer</td>\n",
       "      <td>1</td>\n",
       "    </tr>\n",
       "  </tbody>\n",
       "</table>\n",
       "</div>"
      ],
      "text/plain": [
       "  ConcessionStand  TransactionID TransactionTime          Item  Quantity\n",
       "0     Concession5       10280863  12/09/22 18:35     SoftDrink         3\n",
       "1     Concession5       10280863  12/09/22 18:35          Beer         1\n",
       "2     Concession5       10280863  12/09/22 18:35         Fries         1\n",
       "3     Concession2       10280864  12/09/22 18:36  BottledWater         2\n",
       "4     Concession2       10280864  12/09/22 18:36          Beer         1"
      ]
     },
     "execution_count": 3,
     "metadata": {},
     "output_type": "execute_result"
    }
   ],
   "source": [
    "dirty_concession_df.head()"
   ]
  },
  {
   "cell_type": "code",
   "execution_count": 4,
   "metadata": {},
   "outputs": [],
   "source": [
    "dirty_concession_df[\"TransactionTime\"] = pd.to_datetime(dirty_concession_df[\"TransactionTime\"])"
   ]
  },
  {
   "cell_type": "code",
   "execution_count": 14,
   "metadata": {},
   "outputs": [],
   "source": [
    "concession_1 = dirty_concession_df.loc[dirty_concession_df[\"ConcessionStand\"].str.contains(\"Concession1\")]\n",
    "concession_2 = dirty_concession_df.loc[dirty_concession_df[\"ConcessionStand\"].str.contains(\"Concession2\")]\n",
    "concession_3 = dirty_concession_df.loc[dirty_concession_df[\"ConcessionStand\"].str.contains(\"Concession3\")]\n",
    "concession_4 = dirty_concession_df.loc[dirty_concession_df[\"ConcessionStand\"].str.contains(\"Concession4\")]\n",
    "concession_5 = dirty_concession_df.loc[dirty_concession_df[\"ConcessionStand\"].str.contains(\"Concession5\")]\n",
    "concession_6 = dirty_concession_df.loc[dirty_concession_df[\"ConcessionStand\"].str.contains(\"Concession6\")]\n",
    "concession_7 = dirty_concession_df.loc[dirty_concession_df[\"ConcessionStand\"].str.contains(\"Concession7\")]\n",
    "concession_8 = dirty_concession_df.loc[dirty_concession_df[\"ConcessionStand\"].str.contains(\"Concession8\")]"
   ]
  },
  {
   "cell_type": "code",
   "execution_count": 10,
   "metadata": {},
   "outputs": [],
   "source": [
    "def process_concession_data_time(df, index):\n",
    "  concession_df = df.groupby(pd.Grouper(key=\"TransactionTime\", freq=\"30min\")).count()\n",
    "  concession_df = concession_df[concession_df[\"ConcessionStand\"] != 0]\n",
    "\n",
    "  concession_df.to_csv(\"final_data/concession/concession_\" + str(index) + \".csv\")\n",
    "\n",
    "for i in range(1, 9):\n",
    "  process_concession_data_time(globals()[\"concession_\" + str(i)], i)"
   ]
  },
  {
   "cell_type": "code",
   "execution_count": 13,
   "metadata": {},
   "outputs": [],
   "source": [
    "def get_counts_concession(df):\n",
    "  return round(df[\"Quantity\"].value_counts() / df.shape[0], 2)\n",
    "\n",
    "for i in range(1, 9):\n",
    "  concession_df = globals()[\"concession_\" + str(i)]\n",
    "  concession_df = get_counts_concession(concession_df)\n",
    "  concession_df.to_csv(\"final_data/concession/concession_\" + str(i) + \"_counts.csv\")"
   ]
  },
  {
   "cell_type": "code",
   "execution_count": 15,
   "metadata": {},
   "outputs": [],
   "source": [
    "def get_counts_concession_item(df):\n",
    "  return round(df[\"Item\"].value_counts() / df.shape[0], 2)\n",
    "\n",
    "for i in range(1, 9):\n",
    "  concession_df = globals()[\"concession_\" + str(i)]\n",
    "  concession_df = get_counts_concession_item(concession_df)\n",
    "  concession_df.to_csv(\"final_data/concession/concession_\" + str(i) + \"_item_counts.csv\")"
   ]
  }
 ],
 "metadata": {
  "kernelspec": {
   "display_name": "Python 3.10.4 64-bit",
   "language": "python",
   "name": "python3"
  },
  "language_info": {
   "codemirror_mode": {
    "name": "ipython",
    "version": 3
   },
   "file_extension": ".py",
   "mimetype": "text/x-python",
   "name": "python",
   "nbconvert_exporter": "python",
   "pygments_lexer": "ipython3",
   "version": "3.10.4"
  },
  "orig_nbformat": 4,
  "vscode": {
   "interpreter": {
    "hash": "aee8b7b246df8f9039afb4144a1f6fd8d2ca17a180786b69acc140d282b71a49"
   }
  }
 },
 "nbformat": 4,
 "nbformat_minor": 2
}
